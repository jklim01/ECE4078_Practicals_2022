{
 "cells": [
  {
   "cell_type": "markdown",
   "metadata": {
    "cell_id": "e40e6300-3785-4903-ac55-3caac8c2ddeb",
    "deepnote_cell_height": 81.953125,
    "deepnote_cell_type": "markdown"
   },
   "source": [
    "# Practical 1: Position and Orientation"
   ]
  },
  {
   "cell_type": "markdown",
   "metadata": {
    "cell_id": "00001-d8f79575-9803-4fe4-9730-d816a57b2b25",
    "deepnote_cell_height": 52.375,
    "deepnote_cell_type": "markdown"
   },
   "source": [
    "We first import the required dependencies"
   ]
  },
  {
   "cell_type": "code",
   "execution_count": 1,
   "metadata": {
    "cell_id": "00002-9287e9b4-c6bd-4926-8afc-ec957c92198f",
    "deepnote_cell_height": 98.953125,
    "deepnote_cell_type": "code",
    "deepnote_to_be_reexecuted": false,
    "execution_millis": 0,
    "execution_start": 1658994578264,
    "source_hash": "86a00679"
   },
   "outputs": [],
   "source": [
    "# import libraries we need\n",
    "import numpy as np"
   ]
  },
  {
   "cell_type": "markdown",
   "metadata": {
    "cell_id": "00003-0705874f-874e-4a5c-a639-34ece813b034",
    "deepnote_cell_height": 142.765625,
    "deepnote_cell_type": "markdown"
   },
   "source": [
    "# Exercises\n",
    "\n",
    "Complete each one of the following programming exercises and submit your solution by the deadline specified on Moodle"
   ]
  },
  {
   "cell_type": "markdown",
   "metadata": {
    "cell_id": "00004-64caa392-6697-40bc-a798-e3a319e23b06",
    "deepnote_cell_height": 100.359375,
    "deepnote_cell_type": "markdown"
   },
   "source": [
    "### Homogeneous transformation in 2D (3 points)\n",
    "\n",
    "Given an angle $\\theta$ and two displacements $d_x$ and $d_y$, code the corresponding homogeneous transformation matrix"
   ]
  },
  {
   "cell_type": "code",
   "execution_count": 2,
   "metadata": {
    "cell_id": "00005-8c5123af-7447-498c-9d33-b864eac19fda",
    "deepnote_cell_height": 314.953125,
    "deepnote_cell_type": "code",
    "deepnote_to_be_reexecuted": false,
    "execution_millis": 0,
    "execution_start": 1658994578291,
    "owner_user_id": "31004791-285e-4a52-b05c-73d28044a94d",
    "source_hash": "7275837a"
   },
   "outputs": [],
   "source": [
    "def get_homogeneous_transform_2d(theta, dx, dy):\n",
    "    \n",
    "    cos_theta = np.cos(theta)\n",
    "    sin_theta = np.sin(theta)\n",
    "    \n",
    "    #TODO: construct the matrix tr -------------------------------\n",
    "    tr = np.eye(3)\n",
    "    tr[0:2, :] = [\n",
    "        [cos_theta, -sin_theta, dx],\n",
    "        [sin_theta, cos_theta, dy],\n",
    "    ]\n",
    "    #ENDTODO -----------------------------------------------------\n",
    "    \n",
    "    return tr"
   ]
  },
  {
   "cell_type": "markdown",
   "metadata": {
    "cell_id": "79d2927d42e34c17b8a3893f758e1574",
    "deepnote_cell_height": 97.1875,
    "deepnote_cell_type": "markdown",
    "tags": []
   },
   "source": [
    "We now test the implemented 2D homogeneous transformation with $\\theta = \\pi/2$, $dx = 5$ and $dy = 5$. Note that we are calling `np.round` because of the numerical error, such as `np.cos(np.pi/2) = 6.123233995736766e-17` instead of being equal to 0."
   ]
  },
  {
   "cell_type": "code",
   "execution_count": 11,
   "metadata": {
    "cell_id": "00006-a97d8223-f6a0-4c7a-b19a-de2bd7ed0373",
    "deepnote_cell_height": 156.515625,
    "deepnote_cell_type": "code",
    "deepnote_output_heights": [
     59.59375
    ],
    "deepnote_to_be_reexecuted": false,
    "execution_millis": 5,
    "execution_start": 1658994696526,
    "source_hash": "64caec28"
   },
   "outputs": [
    {
     "data": {
      "text/plain": [
       "array([[ 0., -1.,  5.],\n",
       "       [ 1.,  0.,  5.],\n",
       "       [ 0.,  0.,  1.]])"
      ]
     },
     "execution_count": 11,
     "metadata": {},
     "output_type": "execute_result"
    }
   ],
   "source": [
    "np.round(get_homogeneous_transform_2d(np.pi/2, 5, 5), 2)"
   ]
  },
  {
   "cell_type": "markdown",
   "metadata": {
    "cell_id": "00007-fd9c320c-4a92-4120-b5d0-f6df3d5b0b5c",
    "deepnote_cell_height": 148.75,
    "deepnote_cell_type": "markdown",
    "tags": []
   },
   "source": [
    "Expected output: \n",
    "```\n",
    "array([[ 0., -1.,  5.],\n",
    "       [ 1.,  0.,  5.],\n",
    "       [ 0.,  0.,  1.]])\n",
    "```"
   ]
  },
  {
   "cell_type": "markdown",
   "metadata": {
    "cell_id": "00008-8ca2db3f-6946-4104-b233-49b998fbd076",
    "deepnote_cell_height": 812.375,
    "deepnote_cell_type": "markdown"
   },
   "source": [
    "### Composition of homogeneous transformations  (4 points)\n",
    "\n",
    "<!-- <img src=\"Practical1_Support/images/Exercise2_Example.png\"> -->\n",
    "<img src=\"https://drive.google.com/uc?id=1dBXMNwNbwXsrnBRUwscGXHvh3OlvzPol\">\n",
    "\n",
    "Suppose that the location of a robot (dashed frame) with respect to the world frame (solid frame) is given by the following sequence of transformations:\n",
    "- A rotation by an angle $\\alpha$ (in radians) about the current $z$-axis\n",
    "- A rotation by an angle $\\beta$ (in radians) about the current $x$-axis\n",
    "- A translation of $b$ units along the current $y$-axis\n",
    "\n",
    "The robot has a camera (dotted frame) whose location relative to the robot is given by:\n",
    "- A translation of $c$ units along the current $z$-axis\n",
    "- A rotation by an angle $\\gamma$ (in radians) about the current $y$-axis\n",
    "\n",
    "Given the coordinates of a points $p_c$ (light blue dot) in the camera frame, determine the coordinates of the same point in the robot's frame and the world frame. **Note that**: the image does not reflect the proper order of transformation, it is purely to visualize solid, dotted, and dashed line."
   ]
  },
  {
   "cell_type": "code",
   "execution_count": 12,
   "metadata": {
    "cell_id": "00009-660e5c69-7a96-48f3-809b-c06bfebfb99b",
    "deepnote_cell_height": 1214.953125,
    "deepnote_cell_type": "code",
    "deepnote_to_be_reexecuted": false,
    "execution_millis": 9,
    "execution_start": 1658994699698,
    "source_hash": "58769315"
   },
   "outputs": [],
   "source": [
    "def get_point_in_robot_frame(point_c=np.array([0,0,1]), gamma=0, disp_c=0):\n",
    "    \n",
    "    # Represent point_c in homogeneous form\n",
    "    homogeneous_point_c = np.hstack([point_c, 1])\n",
    "    \n",
    "    #TODO: Define trl_cam_rob to encode translation by disp_c--------\n",
    "    trl_cam_rob = np.eye(4)\n",
    "    trl_cam_rob[2, -1] = disp_c \n",
    "    #ENDTODO --------------------------------------------------------\n",
    "\n",
    "    #TODO: Define rot_cam_rob to encode rotation defined by gamma----\n",
    "    rot_cam_rob = np.eye(4)\n",
    "    rot_cam_rob[0, 0:3] = [np.cos(gamma), 0, np.sin(gamma)]\n",
    "    rot_cam_rob[2, 0:3] = [-np.sin(gamma), 0, np.cos(gamma)]\n",
    "    #ENDTODO -------------------------------------------------------- \n",
    "    \n",
    "    #TODO: Define final_tr as the composed transformation from gamma and disp_c\n",
    "    final_tr = trl_cam_rob @ rot_cam_rob\n",
    "    #ENDTODO\n",
    "    \n",
    "    # Apply transformation to determine coordinates of point_c in robot frame\n",
    "    point_r = np.matmul(final_tr, homogeneous_point_c)[:3]\n",
    "    \n",
    "    return point_r\n",
    "\n",
    "def get_point_in_world_frame(point_c=np.array([0,0,1]),\n",
    "                                alpha=0, beta=0, gamma=0, \n",
    "                                disp_c=0, disp_b=0):\n",
    "    \n",
    "    # Get point in robot frame\n",
    "    point_r = get_point_in_robot_frame(point_c, gamma, disp_c)\n",
    "    \n",
    "    # Represent point_r in homogeneous form\n",
    "    homogeneous_point_r = np.hstack([point_r, 1])\n",
    "    \n",
    "    #TODO: Define rot_z to encode rotation defined by alpha----------\n",
    "    rot_z = np.eye(4)\n",
    "    rot_z[0:2, 0:3] = [\n",
    "        [np.cos(alpha), -np.sin(alpha), 0],\n",
    "        [np.sin(alpha), np.cos(alpha), 0]\n",
    "    ]\n",
    "    #ENDTODO --------------------------------------------------------\n",
    "    \n",
    "    #TODO: Define rot_x to encode rotation defined by beta-----------\n",
    "    rot_x = np.eye(4)\n",
    "    rot_x[1:3, 0:3] = [\n",
    "        [0, np.cos(beta), -np.sin(beta)],\n",
    "        [0, np.sin(beta), np.cos(beta)]\n",
    "    ]\n",
    "    #ENDTODO --------------------------------------------------------\n",
    "\n",
    "    #TODO: Define trl_cam_world to encode translation by disp_b------\n",
    "    trl_rob_world = np.eye(4)\n",
    "    trl_rob_world[1, - 1] = disp_b\n",
    "    #ENDTODO --------------------------------------------------------\n",
    "    \n",
    "    #TODO: compose effect of alpha, beta, disp_b into final_tr-------\n",
    "    final_tr = rot_z @ rot_x @ trl_rob_world\n",
    "    #ENDTODO --------------------------------------------------------\n",
    "    \n",
    "    # Apply transformation to determine coordinates of point_r in world frame\n",
    "    point_w = np.matmul(final_tr, homogeneous_point_r)[:3]\n",
    "    \n",
    "    return point_w"
   ]
  },
  {
   "cell_type": "markdown",
   "metadata": {
    "cell_id": "c5c1af60d4ef46d694583bc440422a09",
    "deepnote_cell_height": 150.578125,
    "deepnote_cell_type": "markdown",
    "tags": []
   },
   "source": [
    "We now test the implemented 3D homogeneous transformation with a point $p_c$ in camera frame, with coodinate $x = 0, y = 1, z = 3$. Where would that point be in: \n",
    "- robot frame?\n",
    "- world frame?"
   ]
  },
  {
   "cell_type": "code",
   "execution_count": 13,
   "metadata": {
    "cell_id": "00010-ce34da4f-f4e7-4d78-9a96-fd0e175f5991",
    "deepnote_cell_height": 149.953125,
    "deepnote_cell_type": "code",
    "deepnote_to_be_reexecuted": false,
    "execution_millis": 3,
    "execution_start": 1658994703709,
    "source_hash": "ac4811ba"
   },
   "outputs": [
    {
     "name": "stdout",
     "output_type": "stream",
     "text": [
      "[0. 1. 5.]\n",
      "[0. 0. 5.]\n"
     ]
    }
   ],
   "source": [
    "print(np.round(get_point_in_robot_frame(point_c=np.array([0, 1, 3]), gamma=0, disp_c=2)))\n",
    "print(np.round(get_point_in_world_frame(point_c=np.array([0, 1, 3]), gamma=0, disp_c=2, alpha=0, beta=0, disp_b=-1)))"
   ]
  },
  {
   "cell_type": "markdown",
   "metadata": {
    "cell_id": "00011-38e0d61e-11e5-49d6-82dc-b54e5148e8d0",
    "deepnote_cell_height": 127.9375,
    "deepnote_cell_type": "markdown",
    "tags": []
   },
   "source": [
    "Expected output:\n",
    "```\n",
    "[0. 1. 5.]\n",
    "[0. 0. 5.]\n",
    "```"
   ]
  },
  {
   "cell_type": "markdown",
   "metadata": {
    "cell_id": "00014-eb51bf79-a845-43b8-9079-b23b8e81268a",
    "deepnote_cell_height": 221.5625,
    "deepnote_cell_type": "markdown"
   },
   "source": [
    "# Grading\n",
    "\n",
    "Test cases for giving marks:\n",
    "- `q1`: Assess the `get_homogeneous_transform_2d` function (3 points)\n",
    "- `q2_robot`: Assess the `get_point_in_robot_frame` function (2 points)\n",
    "- `q2_world`: Assess the `get_point_in_world_frame` function (2 points)"
   ]
  },
  {
   "cell_type": "code",
   "execution_count": 6,
   "metadata": {
    "cell_id": "00015-e0e29464-9edd-433b-93fb-abbee5a4f16c",
    "deepnote_cell_height": 230.953125,
    "deepnote_cell_type": "code",
    "deepnote_output_heights": [
     98
    ],
    "deepnote_to_be_reexecuted": false,
    "execution_millis": 1351,
    "execution_start": 1658994578317,
    "source_hash": "5af5e3d4"
   },
   "outputs": [
    {
     "data": {
      "text/plain": [
       "q1 results: All test cases passed!\n",
       "\n",
       "q2_robot results: All test cases passed!\n",
       "\n",
       "q2_world results: All test cases passed!"
      ]
     },
     "execution_count": 6,
     "metadata": {},
     "output_type": "execute_result"
    }
   ],
   "source": [
    "import otter\n",
    "grader = otter.Notebook(tests_dir = \"Practical01_Support/tests\")\n",
    "grader.check_all()"
   ]
  },
  {
   "cell_type": "markdown",
   "metadata": {
    "created_in_deepnote_cell": true,
    "deepnote_cell_type": "markdown",
    "tags": []
   },
   "source": [
    "<a style='text-decoration:none;line-height:16px;display:flex;color:#5B5B62;padding:10px;justify-content:end;' href='https://deepnote.com?utm_source=created-in-deepnote-cell&projectId=325ba0f6-b44d-4215-8ebd-43ced8420cc3' target=\"_blank\">\n",
    "<img alt='Created in deepnote.com' style='display:inline;max-height:16px;margin:0px;margin-right:7.5px;' src='data:image/svg+xml;base64,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' > </img>\n",
    "Created in <span style='font-weight:600;margin-left:4px;'>Deepnote</span></a>"
   ]
  }
 ],
 "metadata": {
  "deepnote": {},
  "deepnote_execution_queue": [],
  "deepnote_notebook_id": "73d670c7-023b-4c79-8737-6b237dcecc46",
  "kernelspec": {
   "display_name": "Python 3.8.10 64-bit",
   "language": "python",
   "name": "python3"
  },
  "language_info": {
   "codemirror_mode": {
    "name": "ipython",
    "version": 3
   },
   "file_extension": ".py",
   "mimetype": "text/x-python",
   "name": "python",
   "nbconvert_exporter": "python",
   "pygments_lexer": "ipython3",
   "version": "3.8.10"
  },
  "vscode": {
   "interpreter": {
    "hash": "e7370f93d1d0cde622a1f8e1c04877d8463912d04d973331ad4851f04de6915a"
   }
  }
 },
 "nbformat": 4,
 "nbformat_minor": 2
}
